{
 "cells": [
  {
   "cell_type": "markdown",
   "metadata": {},
   "source": [
    "## code the class of linear computing signature "
   ]
  },
  {
   "cell_type": "code",
   "execution_count": null,
   "metadata": {},
   "outputs": [],
   "source": []
  },
  {
   "cell_type": "code",
   "execution_count": 9,
   "metadata": {},
   "outputs": [],
   "source": [
    "import numpy as np\n",
    "import pandas as pd\n",
    "import iisignature\n",
    "from sklearn.base import BaseEstimator, TransformerMixin\n",
    "from tqdm import tqdm\n",
    "import itertools\n",
    "\n",
    "class Augment(BaseEstimator, TransformerMixin):\n",
    "    def __init__(self, normalize=False, add_time=True, lead_lag=False, basepoint=True, t0=0.0, t1=1.0, lags=[1]):\n",
    "        self.normalize = normalize\n",
    "        self.add_time = add_time\n",
    "        self.lead_lag = lead_lag\n",
    "        self.basepoint = basepoint\n",
    "        self.t0, self.t1 = t0, t1\n",
    "        self.lags = lags\n",
    "\n",
    "    def fit(self, X):\n",
    "        return self\n",
    "\n",
    "    def transform(self, X):\n",
    "        if self.normalize:\n",
    "            X /= X.max(axis=1)[:, None, :]\n",
    "        if self.lead_lag:\n",
    "            X_list = [X]\n",
    "            for lag in self.lags:\n",
    "                X_shifted = np.zeros_like(X)\n",
    "                X_shifted[:, lag:, :] = X[:, :-lag, :]\n",
    "                X_shifted[:, :lag, :] = np.expand_dims(X[:, 0, :], axis=1)\n",
    "                X_list.append(X_shifted)\n",
    "            X = np.concatenate(X_list, axis=-1)\n",
    "        if self.add_time:\n",
    "            time = np.linspace(self.t0, self.t1, X.shape[1])\n",
    "            X = np.concatenate((np.tile(time[None, :, None], [X.shape[0], 1, 1]), X), axis=-1)\n",
    "        if self.basepoint:\n",
    "            X = np.concatenate((np.zeros_like(X[:, :1]), X), axis=1)\n",
    "        return X\n",
    "\n",
    "class FeatureExtraction(Augment):\n",
    "    def __init__(self, \n",
    "                 depth=2, \n",
    "                 t0=0.0, \n",
    "                 t1=1.0, \n",
    "                 lags=[1], \n",
    "                 levels=1,\n",
    "                 normalize=False, \n",
    "                 add_time=True, \n",
    "                 lead_lag=False, \n",
    "                 basepoint=True,\n",
    "                 num_samples=5000):\n",
    "        super().__init__(normalize, add_time, lead_lag, basepoint, t0, t1, lags)\n",
    "        self.depth = depth\n",
    "        self.levels = levels\n",
    "        self.num_samples = num_samples\n",
    "\n",
    "    def fit(self, X, y=None):\n",
    "        return self\n",
    "\n",
    "    def transform(self, X):\n",
    "        num_features_per_level = 4  # askRate, bidRate, askSize, bidSize\n",
    "        total_columns = num_features_per_level * self.levels\n",
    "\n",
    "        # Truncate dataset up to the specified level\n",
    "        X_truncated = X[:, :total_columns]\n",
    "        X_midprice = X[:, -1:]  # Include midprice\n",
    "        X_truncated = np.concatenate([X_truncated, X_midprice], axis=1)\n",
    "\n",
    "        signature_features = []\n",
    "        sampled_timesteps = np.sort(np.random.randint(1, X_truncated.shape[0], size=self.num_samples))\n",
    "\n",
    "        for tk in sampled_timesteps:\n",
    "            X_full_segment = X_truncated[:tk, :]\n",
    "            X_full_segment_aug = super().transform(X_full_segment[np.newaxis, :, :])\n",
    "            Sig_0_tk = iisignature.sig(X_full_segment_aug, self.depth)\n",
    "\n",
    "            X_short_segment = X_truncated[tk-1:tk, :]\n",
    "            X_short_segment_aug = super().transform(X_short_segment[np.newaxis, :, :])\n",
    "            Sig_tk_1_tk = iisignature.sig(X_short_segment_aug, self.depth)\n",
    "\n",
    "            Sig_concat = np.concatenate([Sig_0_tk, Sig_tk_1_tk], axis=1)\n",
    "\n",
    "            time_step_col = np.full((Sig_concat.shape[0], 1), tk)\n",
    "            Sig_concat = np.concatenate([time_step_col, Sig_concat], axis=1)\n",
    "\n",
    "            signature_features.append(Sig_concat)\n",
    "\n",
    "        feature_columns = [\"time_step\"]\n",
    "        sig_length = Sig_concat.shape[1] - 1\n",
    "\n",
    "        for i in range(sig_length // 2):\n",
    "            feature_columns.append(f\"sig_global_depth_{self.depth}_element_{i}\")\n",
    "        for i in range(sig_length // 2, sig_length):\n",
    "            feature_columns.append(f\"sig_local_depth_{self.depth}_element_{i - sig_length // 2}\")\n",
    "\n",
    "        df_signatures = pd.DataFrame(np.vstack(signature_features), columns=feature_columns)\n",
    "\n",
    "        return df_signatures"
   ]
  },
  {
   "cell_type": "code",
   "execution_count": 10,
   "metadata": {},
   "outputs": [],
   "source": [
    "# Data Processing Pipeline\n",
    "leave_out_start = 500\n",
    "leave_out_end = 500\n",
    "nrows = 500000\n",
    "\n",
    "data = pd.read_csv('/Users/arthur/Documents/STUDY/Imperial/rough paths /salvi notebook/data.csv.gz', compression='gzip', nrows=nrows)\n",
    "M, N = data.shape\n",
    "\n",
    "# Extract target before reordering columns\n",
    "y = data.iloc[:, -1].values\n",
    "\n",
    "# Data Preprocessing\n",
    "askSize_columns = [f'askSize{i}' for i in range(15)] \n",
    "bidSize_columns = [f'bidSize{i}' for i in range(15)]\n",
    "size_columns = askSize_columns + bidSize_columns\n",
    "data[size_columns] = data[size_columns].fillna(0.0)\n",
    "\n",
    "askRate_columns = [f'askRate{i}' for i in range(15)] \n",
    "bidRate_columns = [f'bidRate{i}' for i in range(15)]\n",
    "rate_columns = askRate_columns + bidRate_columns\n",
    "data[rate_columns] = data[rate_columns].ffill().bfill()\n",
    "\n",
    "data['midprice'] = 0.5 * (data['askRate0'] + data['bidRate0']) \n",
    "selected_columns = [[f'askRate{i}', f'bidRate{i}', f'askSize{i}', f'bidSize{i}'] for i in range(15)]\n",
    "selected_columns = list(itertools.chain.from_iterable(selected_columns)) + ['midprice']\n",
    "data = data[selected_columns]\n",
    "\n",
    "X = data.values"
   ]
  },
  {
   "cell_type": "code",
   "execution_count": 12,
   "metadata": {},
   "outputs": [
    {
     "name": "stderr",
     "output_type": "stream",
     "text": [
      "  0%|          | 0/3 [00:00<?, ?it/s]"
     ]
    },
    {
     "name": "stdout",
     "output_type": "stream",
     "text": [
      "(5000, 85)\n"
     ]
    },
    {
     "name": "stderr",
     "output_type": "stream",
     "text": [
      " 33%|███▎      | 1/3 [16:01<32:02, 961.09s/it]"
     ]
    },
    {
     "name": "stdout",
     "output_type": "stream",
     "text": [
      "(5000, 3613)\n"
     ]
    },
    {
     "name": "stderr",
     "output_type": "stream",
     "text": [
      " 67%|██████▋   | 2/3 [15:45:17<7:52:38, 28358.73s/it]\n"
     ]
    },
    {
     "ename": "KeyboardInterrupt",
     "evalue": "",
     "output_type": "error",
     "traceback": [
      "\u001b[0;31m---------------------------------------------------------------------------\u001b[0m",
      "\u001b[0;31mKeyboardInterrupt\u001b[0m                         Traceback (most recent call last)",
      "Input \u001b[0;32mIn [12]\u001b[0m, in \u001b[0;36m<cell line: 6>\u001b[0;34m()\u001b[0m\n\u001b[1;32m      6\u001b[0m \u001b[38;5;28;01mfor\u001b[39;00m depth \u001b[38;5;129;01min\u001b[39;00m tqdm(depths):\n\u001b[1;32m      7\u001b[0m     feature_extraction \u001b[38;5;241m=\u001b[39m FeatureExtraction(depth\u001b[38;5;241m=\u001b[39mdepth, levels\u001b[38;5;241m=\u001b[39mlevels)\n\u001b[0;32m----> 8\u001b[0m     X_transformed \u001b[38;5;241m=\u001b[39m \u001b[43mfeature_extraction\u001b[49m\u001b[38;5;241;43m.\u001b[39;49m\u001b[43mfit_transform\u001b[49m\u001b[43m(\u001b[49m\u001b[43mX\u001b[49m\u001b[43m)\u001b[49m\n\u001b[1;32m      9\u001b[0m     \u001b[38;5;28mprint\u001b[39m(X_transformed\u001b[38;5;241m.\u001b[39mshape)\n\u001b[1;32m     11\u001b[0m     df \u001b[38;5;241m=\u001b[39m pd\u001b[38;5;241m.\u001b[39mDataFrame(X_transformed)\n",
      "File \u001b[0;32m~/opt/anaconda3/lib/python3.9/site-packages/sklearn/utils/_set_output.py:316\u001b[0m, in \u001b[0;36m_wrap_method_output.<locals>.wrapped\u001b[0;34m(self, X, *args, **kwargs)\u001b[0m\n\u001b[1;32m    314\u001b[0m \u001b[38;5;129m@wraps\u001b[39m(f)\n\u001b[1;32m    315\u001b[0m \u001b[38;5;28;01mdef\u001b[39;00m \u001b[38;5;21mwrapped\u001b[39m(\u001b[38;5;28mself\u001b[39m, X, \u001b[38;5;241m*\u001b[39margs, \u001b[38;5;241m*\u001b[39m\u001b[38;5;241m*\u001b[39mkwargs):\n\u001b[0;32m--> 316\u001b[0m     data_to_wrap \u001b[38;5;241m=\u001b[39m \u001b[43mf\u001b[49m\u001b[43m(\u001b[49m\u001b[38;5;28;43mself\u001b[39;49m\u001b[43m,\u001b[49m\u001b[43m \u001b[49m\u001b[43mX\u001b[49m\u001b[43m,\u001b[49m\u001b[43m \u001b[49m\u001b[38;5;241;43m*\u001b[39;49m\u001b[43margs\u001b[49m\u001b[43m,\u001b[49m\u001b[43m \u001b[49m\u001b[38;5;241;43m*\u001b[39;49m\u001b[38;5;241;43m*\u001b[39;49m\u001b[43mkwargs\u001b[49m\u001b[43m)\u001b[49m\n\u001b[1;32m    317\u001b[0m     \u001b[38;5;28;01mif\u001b[39;00m \u001b[38;5;28misinstance\u001b[39m(data_to_wrap, \u001b[38;5;28mtuple\u001b[39m):\n\u001b[1;32m    318\u001b[0m         \u001b[38;5;66;03m# only wrap the first output for cross decomposition\u001b[39;00m\n\u001b[1;32m    319\u001b[0m         return_tuple \u001b[38;5;241m=\u001b[39m (\n\u001b[1;32m    320\u001b[0m             _wrap_data_with_container(method, data_to_wrap[\u001b[38;5;241m0\u001b[39m], X, \u001b[38;5;28mself\u001b[39m),\n\u001b[1;32m    321\u001b[0m             \u001b[38;5;241m*\u001b[39mdata_to_wrap[\u001b[38;5;241m1\u001b[39m:],\n\u001b[1;32m    322\u001b[0m         )\n",
      "File \u001b[0;32m~/opt/anaconda3/lib/python3.9/site-packages/sklearn/base.py:1098\u001b[0m, in \u001b[0;36mTransformerMixin.fit_transform\u001b[0;34m(self, X, y, **fit_params)\u001b[0m\n\u001b[1;32m   1083\u001b[0m         warnings\u001b[38;5;241m.\u001b[39mwarn(\n\u001b[1;32m   1084\u001b[0m             (\n\u001b[1;32m   1085\u001b[0m                 \u001b[38;5;124mf\u001b[39m\u001b[38;5;124m\"\u001b[39m\u001b[38;5;124mThis object (\u001b[39m\u001b[38;5;132;01m{\u001b[39;00m\u001b[38;5;28mself\u001b[39m\u001b[38;5;241m.\u001b[39m\u001b[38;5;18m__class__\u001b[39m\u001b[38;5;241m.\u001b[39m\u001b[38;5;18m__name__\u001b[39m\u001b[38;5;132;01m}\u001b[39;00m\u001b[38;5;124m) has a `transform`\u001b[39m\u001b[38;5;124m\"\u001b[39m\n\u001b[0;32m   (...)\u001b[0m\n\u001b[1;32m   1093\u001b[0m             \u001b[38;5;167;01mUserWarning\u001b[39;00m,\n\u001b[1;32m   1094\u001b[0m         )\n\u001b[1;32m   1096\u001b[0m \u001b[38;5;28;01mif\u001b[39;00m y \u001b[38;5;129;01mis\u001b[39;00m \u001b[38;5;28;01mNone\u001b[39;00m:\n\u001b[1;32m   1097\u001b[0m     \u001b[38;5;66;03m# fit method of arity 1 (unsupervised transformation)\u001b[39;00m\n\u001b[0;32m-> 1098\u001b[0m     \u001b[38;5;28;01mreturn\u001b[39;00m \u001b[38;5;28;43mself\u001b[39;49m\u001b[38;5;241;43m.\u001b[39;49m\u001b[43mfit\u001b[49m\u001b[43m(\u001b[49m\u001b[43mX\u001b[49m\u001b[43m,\u001b[49m\u001b[43m \u001b[49m\u001b[38;5;241;43m*\u001b[39;49m\u001b[38;5;241;43m*\u001b[39;49m\u001b[43mfit_params\u001b[49m\u001b[43m)\u001b[49m\u001b[38;5;241;43m.\u001b[39;49m\u001b[43mtransform\u001b[49m\u001b[43m(\u001b[49m\u001b[43mX\u001b[49m\u001b[43m)\u001b[49m\n\u001b[1;32m   1099\u001b[0m \u001b[38;5;28;01melse\u001b[39;00m:\n\u001b[1;32m   1100\u001b[0m     \u001b[38;5;66;03m# fit method of arity 2 (supervised transformation)\u001b[39;00m\n\u001b[1;32m   1101\u001b[0m     \u001b[38;5;28;01mreturn\u001b[39;00m \u001b[38;5;28mself\u001b[39m\u001b[38;5;241m.\u001b[39mfit(X, y, \u001b[38;5;241m*\u001b[39m\u001b[38;5;241m*\u001b[39mfit_params)\u001b[38;5;241m.\u001b[39mtransform(X)\n",
      "File \u001b[0;32m~/opt/anaconda3/lib/python3.9/site-packages/sklearn/utils/_set_output.py:316\u001b[0m, in \u001b[0;36m_wrap_method_output.<locals>.wrapped\u001b[0;34m(self, X, *args, **kwargs)\u001b[0m\n\u001b[1;32m    314\u001b[0m \u001b[38;5;129m@wraps\u001b[39m(f)\n\u001b[1;32m    315\u001b[0m \u001b[38;5;28;01mdef\u001b[39;00m \u001b[38;5;21mwrapped\u001b[39m(\u001b[38;5;28mself\u001b[39m, X, \u001b[38;5;241m*\u001b[39margs, \u001b[38;5;241m*\u001b[39m\u001b[38;5;241m*\u001b[39mkwargs):\n\u001b[0;32m--> 316\u001b[0m     data_to_wrap \u001b[38;5;241m=\u001b[39m \u001b[43mf\u001b[49m\u001b[43m(\u001b[49m\u001b[38;5;28;43mself\u001b[39;49m\u001b[43m,\u001b[49m\u001b[43m \u001b[49m\u001b[43mX\u001b[49m\u001b[43m,\u001b[49m\u001b[43m \u001b[49m\u001b[38;5;241;43m*\u001b[39;49m\u001b[43margs\u001b[49m\u001b[43m,\u001b[49m\u001b[43m \u001b[49m\u001b[38;5;241;43m*\u001b[39;49m\u001b[38;5;241;43m*\u001b[39;49m\u001b[43mkwargs\u001b[49m\u001b[43m)\u001b[49m\n\u001b[1;32m    317\u001b[0m     \u001b[38;5;28;01mif\u001b[39;00m \u001b[38;5;28misinstance\u001b[39m(data_to_wrap, \u001b[38;5;28mtuple\u001b[39m):\n\u001b[1;32m    318\u001b[0m         \u001b[38;5;66;03m# only wrap the first output for cross decomposition\u001b[39;00m\n\u001b[1;32m    319\u001b[0m         return_tuple \u001b[38;5;241m=\u001b[39m (\n\u001b[1;32m    320\u001b[0m             _wrap_data_with_container(method, data_to_wrap[\u001b[38;5;241m0\u001b[39m], X, \u001b[38;5;28mself\u001b[39m),\n\u001b[1;32m    321\u001b[0m             \u001b[38;5;241m*\u001b[39mdata_to_wrap[\u001b[38;5;241m1\u001b[39m:],\n\u001b[1;32m    322\u001b[0m         )\n",
      "Input \u001b[0;32mIn [9]\u001b[0m, in \u001b[0;36mFeatureExtraction.transform\u001b[0;34m(self, X)\u001b[0m\n\u001b[1;32m     71\u001b[0m X_full_segment \u001b[38;5;241m=\u001b[39m X_truncated[:tk, :]\n\u001b[1;32m     72\u001b[0m X_full_segment_aug \u001b[38;5;241m=\u001b[39m \u001b[38;5;28msuper\u001b[39m()\u001b[38;5;241m.\u001b[39mtransform(X_full_segment[np\u001b[38;5;241m.\u001b[39mnewaxis, :, :])\n\u001b[0;32m---> 73\u001b[0m Sig_0_tk \u001b[38;5;241m=\u001b[39m \u001b[43miisignature\u001b[49m\u001b[38;5;241;43m.\u001b[39;49m\u001b[43msig\u001b[49m\u001b[43m(\u001b[49m\u001b[43mX_full_segment_aug\u001b[49m\u001b[43m,\u001b[49m\u001b[43m \u001b[49m\u001b[38;5;28;43mself\u001b[39;49m\u001b[38;5;241;43m.\u001b[39;49m\u001b[43mdepth\u001b[49m\u001b[43m)\u001b[49m\n\u001b[1;32m     75\u001b[0m X_short_segment \u001b[38;5;241m=\u001b[39m X_truncated[tk\u001b[38;5;241m-\u001b[39m\u001b[38;5;241m1\u001b[39m:tk, :]\n\u001b[1;32m     76\u001b[0m X_short_segment_aug \u001b[38;5;241m=\u001b[39m \u001b[38;5;28msuper\u001b[39m()\u001b[38;5;241m.\u001b[39mtransform(X_short_segment[np\u001b[38;5;241m.\u001b[39mnewaxis, :, :])\n",
      "\u001b[0;31mKeyboardInterrupt\u001b[0m: "
     ]
    }
   ],
   "source": [
    "# Signature Extraction\n",
    "final_dataset = []\n",
    "depths = [1,2,3]\n",
    "levels = 10\n",
    "\n",
    "for depth in tqdm(depths):\n",
    "    feature_extraction = FeatureExtraction(depth=depth, levels=levels)\n",
    "    X_transformed = feature_extraction.fit_transform(X)\n",
    "    print(X_transformed.shape)\n",
    "\n",
    "    df = pd.DataFrame(X_transformed)\n",
    "    df[\"y\"] = y[:df.shape[0]]\n",
    "\n",
    "    filename = f\"final_dataset_depth-{depth}.csv\"\n",
    "    df.to_csv(filename, index=False)\n",
    "    final_dataset.append(df)\n",
    "\n",
    "final_df = pd.concat(final_dataset, axis=0)\n",
    "final_df.to_csv(\"complete_signature_dataset.csv\", index=False)\n",
    "print(\"Final dataset saved as complete_signature_dataset.csv\")\n"
   ]
  }
 ],
 "metadata": {
  "kernelspec": {
   "display_name": "base",
   "language": "python",
   "name": "python3"
  },
  "language_info": {
   "codemirror_mode": {
    "name": "ipython",
    "version": 3
   },
   "file_extension": ".py",
   "mimetype": "text/x-python",
   "name": "python",
   "nbconvert_exporter": "python",
   "pygments_lexer": "ipython3",
   "version": "3.9.12"
  }
 },
 "nbformat": 4,
 "nbformat_minor": 2
}
