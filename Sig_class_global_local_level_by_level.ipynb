{
 "cells": [
  {
   "cell_type": "code",
   "execution_count": 1,
   "metadata": {},
   "outputs": [
    {
     "name": "stdout",
     "output_type": "stream",
     "text": [
      "/Users/arthur/opt/anaconda3/envs/informer_env/bin/python\n",
      "['/Users/arthur/opt/anaconda3/envs/informer_env/lib/python36.zip', '/Users/arthur/opt/anaconda3/envs/informer_env/lib/python3.6', '/Users/arthur/opt/anaconda3/envs/informer_env/lib/python3.6/lib-dynload', '', '/Users/arthur/opt/anaconda3/envs/informer_env/lib/python3.6/site-packages', '/Users/arthur/opt/anaconda3/envs/informer_env/lib/python3.6/site-packages/IPython/extensions', '/Users/arthur/.ipython']\n"
     ]
    }
   ],
   "source": [
    "import sys\n",
    "print(sys.executable)\n",
    "print(sys.path)\n",
    "\n"
   ]
  },
  {
   "cell_type": "code",
   "execution_count": 2,
   "metadata": {},
   "outputs": [
    {
     "name": "stdout",
     "output_type": "stream",
     "text": [
      "0.21.3\n"
     ]
    }
   ],
   "source": [
    "import sklearn\n",
    "print(sklearn.__version__)"
   ]
  },
  {
   "cell_type": "code",
   "execution_count": 3,
   "metadata": {},
   "outputs": [
    {
     "name": "stdout",
     "output_type": "stream",
     "text": [
      "Python Version: 3.6.13 |Anaconda, Inc.| (default, Feb 23 2021, 12:58:59) \n",
      "[GCC Clang 10.0.0 ]\n",
      "Numpy Version: 1.19.4\n",
      "Pandas Version: 0.25.1\n",
      "Scikit-learn Version: 0.21.3\n",
      "Torch Version: 1.8.0\n",
      "Matplotlib Version: 3.1.1\n",
      "iisignature Version: 0.24\n"
     ]
    }
   ],
   "source": [
    "import numpy as np\n",
    "import pandas as pd\n",
    "import sklearn\n",
    "import torch\n",
    "import matplotlib\n",
    "import iisignature\n",
    "\n",
    "print(\"Python Version:\", sys.version)\n",
    "print(\"Numpy Version:\", np.__version__)\n",
    "print(\"Pandas Version:\", pd.__version__)\n",
    "print(\"Scikit-learn Version:\", sklearn.__version__)\n",
    "print(\"Torch Version:\", torch.__version__)\n",
    "print(\"Matplotlib Version:\", matplotlib.__version__)\n",
    "print(\"iisignature Version:\", iisignature.__version__)\n"
   ]
  },
  {
   "cell_type": "code",
   "execution_count": 4,
   "metadata": {},
   "outputs": [],
   "source": [
    "import numpy as np\n",
    "import pandas as pd\n",
    "import iisignature\n",
    "from sklearn.base import BaseEstimator, TransformerMixin\n",
    "from tqdm import tqdm\n",
    "import itertools\n",
    "\n",
    "class Augment(BaseEstimator, TransformerMixin):\n",
    "    def __init__(self, normalize=False, add_time=True, lead_lag=False, basepoint=True, t0=0.0, t1=1.0, lags=[1]):\n",
    "        self.normalize = normalize\n",
    "        self.add_time = add_time\n",
    "        self.lead_lag = lead_lag\n",
    "        self.basepoint = basepoint\n",
    "        self.t0, self.t1 = t0, t1\n",
    "        self.lags = lags\n",
    "\n",
    "    def fit(self, X):\n",
    "        return self\n",
    "\n",
    "    def transform(self, X):\n",
    "        if self.normalize:\n",
    "            X /= X.max(axis=1)[:, None, :]\n",
    "        if self.lead_lag:\n",
    "            X_list = [X]\n",
    "            for lag in self.lags:\n",
    "                X_shifted = np.zeros_like(X)\n",
    "                X_shifted[:, lag:, :] = X[:, :-lag, :]\n",
    "                X_shifted[:, :lag, :] = np.expand_dims(X[:, 0, :], axis=1)\n",
    "                X_list.append(X_shifted)\n",
    "            X = np.concatenate(X_list, axis=-1)\n",
    "        if self.add_time:\n",
    "            time = np.linspace(self.t0, self.t1, X.shape[1])\n",
    "            X = np.concatenate((np.tile(time[None, :, None], [X.shape[0], 1, 1]), X), axis=-1)\n",
    "        if self.basepoint:\n",
    "            X = np.concatenate((np.zeros_like(X[:, :1]), X), axis=1)\n",
    "        return X\n",
    "\n",
    "\n",
    "class FeatureExtraction(Augment):\n",
    "    def __init__(self, \n",
    "                 depth=2, \n",
    "                 t0=0.0, \n",
    "                 t1=1.0, \n",
    "                 lags=[1], \n",
    "                 levels=1,\n",
    "                 normalize=False, \n",
    "                 add_time=True, \n",
    "                 lead_lag=False, \n",
    "                 basepoint=True,\n",
    "                 num_samples=100):\n",
    "        super().__init__(normalize, add_time, lead_lag, basepoint, t0, t1, lags)\n",
    "        self.depth = depth\n",
    "        self.levels = levels\n",
    "        self.num_samples = num_samples\n",
    "\n",
    "    def fit(self, X, y=None):\n",
    "        return self\n",
    "\n",
    "    def transform(self, X):\n",
    "        num_features_per_level = 4  # bid price, ask price, bid volume, ask volume\n",
    "        total_columns = num_features_per_level * self.levels\n",
    "\n",
    "        X_truncated = X[:, :total_columns]\n",
    "        X_midprice = X[:, -1:]  # Include midprice\n",
    "\n",
    "        signature_features = []\n",
    "        sampled_timesteps = np.sort(np.random.randint(1, X_truncated.shape[0], size=self.num_samples))\n",
    "\n",
    "        for tk in sampled_timesteps:\n",
    "            level_signatures = []\n",
    "\n",
    "            for level in range(self.levels):\n",
    "                start_idx = level * num_features_per_level\n",
    "                end_idx = (level + 1) * num_features_per_level\n",
    "                X_level = X_truncated[:, start_idx:end_idx]\n",
    "\n",
    "                # Add midprice\n",
    "                X_level_with_midprice = np.concatenate([X_level, X_midprice], axis=1)\n",
    "\n",
    "                # Global Signature [0, tk]\n",
    "                X_global_segment = X_level_with_midprice[:tk, :]\n",
    "                X_global_aug = super().transform(X_global_segment[np.newaxis, :, :])\n",
    "                Sig_0_tk = iisignature.sig(X_global_aug, self.depth)\n",
    "\n",
    "                # Local Signature [tk-1, tk]\n",
    "                X_local_segment = X_level_with_midprice[tk-1:tk, :]\n",
    "                X_local_aug = super().transform(X_local_segment[np.newaxis, :, :])\n",
    "                Sig_tk_1_tk = iisignature.sig(X_local_aug, self.depth)\n",
    "\n",
    "                # Concatenate Global and Local Signatures\n",
    "                level_signatures.append(np.concatenate([Sig_0_tk, Sig_tk_1_tk], axis=1))\n",
    "\n",
    "            # Concatenate all levels\n",
    "            Sig_concat = np.concatenate(level_signatures, axis=1)\n",
    "\n",
    "            # Add time step information\n",
    "            time_step_col = np.full((Sig_concat.shape[0], 1), tk)\n",
    "            Sig_concat = np.concatenate([time_step_col, Sig_concat], axis=1)\n",
    "\n",
    "            signature_features.append(Sig_concat)\n",
    "\n",
    "        # Column Naming\n",
    "        feature_columns = [\"time_step\"]\n",
    "        sig_length_per_level = Sig_concat.shape[1] - 1  # excluding the time_step\n",
    "\n",
    "        for level in range(self.levels):\n",
    "            sig_length = (sig_length_per_level // self.levels) // 2  # divide equally between global and local\n",
    "\n",
    "            for i in range(sig_length):\n",
    "                feature_columns.append(f\"sig_global_level_{level}_depth_{self.depth}_element_{i}\")\n",
    "\n",
    "            for i in range(sig_length, sig_length * 2):\n",
    "                feature_columns.append(f\"sig_local_level_{level}_depth_{self.depth}_element_{i - sig_length}\")\n",
    "\n",
    "        # Final DataFrame\n",
    "        df_signatures = pd.DataFrame(np.vstack(signature_features), columns=feature_columns)\n",
    "\n",
    "        return df_signatures\n"
   ]
  },
  {
   "cell_type": "code",
   "execution_count": 5,
   "metadata": {},
   "outputs": [],
   "source": [
    "# Data Processing Pipeline\n",
    "leave_out_start = 500\n",
    "leave_out_end = 500\n",
    "nrows = 500000\n",
    "\n",
    "data = pd.read_csv('/Users/arthur/Documents/STUDY/Imperial/rough paths /salvi notebook/data.csv.gz', compression='gzip', nrows=nrows)\n",
    "M, N = data.shape\n",
    "\n",
    "# Extract target before reordering columns\n",
    "y = data.iloc[:, -1].values\n",
    "\n",
    "# Data Preprocessing\n",
    "askSize_columns = [f'askSize{i}' for i in range(15)] \n",
    "bidSize_columns = [f'bidSize{i}' for i in range(15)]\n",
    "size_columns = askSize_columns + bidSize_columns\n",
    "data[size_columns] = data[size_columns].fillna(0.0)\n",
    "\n",
    "askRate_columns = [f'askRate{i}' for i in range(15)] \n",
    "bidRate_columns = [f'bidRate{i}' for i in range(15)]\n",
    "rate_columns = askRate_columns + bidRate_columns\n",
    "data[rate_columns] = data[rate_columns].ffill().bfill()\n",
    "\n",
    "data['midprice'] = 0.5 * (data['askRate0'] + data['bidRate0']) \n",
    "selected_columns = [[f'askRate{i}', f'bidRate{i}', f'askSize{i}', f'bidSize{i}'] for i in range(15)]\n",
    "selected_columns = list(itertools.chain.from_iterable(selected_columns)) + ['midprice']\n",
    "data = data[selected_columns]\n",
    "\n",
    "X = data.values"
   ]
  },
  {
   "cell_type": "code",
   "execution_count": 6,
   "metadata": {},
   "outputs": [
    {
     "name": "stderr",
     "output_type": "stream",
     "text": [
      "100%|██████████| 1/1 [01:27<00:00, 87.13s/it]"
     ]
    },
    {
     "name": "stdout",
     "output_type": "stream",
     "text": [
      "(100, 1261)\n",
      "Final dataset saved as complete_signature_dataset.csv\n"
     ]
    },
    {
     "name": "stderr",
     "output_type": "stream",
     "text": [
      "\n"
     ]
    }
   ],
   "source": [
    "# Signature Extraction\n",
    "final_dataset = []\n",
    "depths = [2]\n",
    "levels = 15\n",
    "max_depths=depths[-1]\n",
    "\n",
    "for depth in tqdm(depths):\n",
    "    feature_extraction = FeatureExtraction(depth=depth, levels=levels)\n",
    "    X_transformed = feature_extraction.fit_transform(X)\n",
    "    print(X_transformed.shape)\n",
    "\n",
    "    df = pd.DataFrame(X_transformed)\n",
    "    df[\"y\"] = y[:df.shape[0]]\n",
    "\n",
    "    filename = f\"final_dataset_depth-{depth}.csv\"\n",
    "    df.to_csv(filename, index=False)\n",
    "    final_dataset.append(df)\n",
    "\n",
    "final_df = pd.concat(final_dataset, axis=0)\n",
    "filename=f\"Test_Sig_global_local_level_by_level_depth-{max_depths}.csv\"\n",
    "final_df.to_csv(filename, index=False)\n",
    "print(\"Final dataset saved as complete_signature_dataset.csv\")\n"
   ]
  },
  {
   "cell_type": "code",
   "execution_count": null,
   "metadata": {},
   "outputs": [],
   "source": []
  }
 ],
 "metadata": {
  "kernelspec": {
   "display_name": "informer_env",
   "language": "python",
   "name": "python3"
  },
  "language_info": {
   "codemirror_mode": {
    "name": "ipython",
    "version": 3
   },
   "file_extension": ".py",
   "mimetype": "text/x-python",
   "name": "python",
   "nbconvert_exporter": "python",
   "pygments_lexer": "ipython3",
   "version": "3.6.13"
  }
 },
 "nbformat": 4,
 "nbformat_minor": 2
}
